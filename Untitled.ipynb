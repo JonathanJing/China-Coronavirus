{
 "cells": [
  {
   "cell_type": "code",
   "execution_count": 25,
   "metadata": {},
   "outputs": [],
   "source": [
    "import re\n",
    "import urllib.request\n",
    "import datetime\n",
    "from bs4 import BeautifulSoup\n",
    "import csv"
   ]
  },
  {
   "cell_type": "code",
   "execution_count": 31,
   "metadata": {},
   "outputs": [
    {
     "name": "stdout",
     "output_type": "stream",
     "text": [
      "['', '人口', '南京市', '843.62万', '无锡市', '657.45万', '徐州市', '880.20万', '常州市', '472.9万', '苏州市', '1072.17万', '南通市', '731万', '连云港市', '452.0万', '淮安市', '492.50万', '盐城市', '720万', '扬州市', '453.1万', '镇江市', '319.64万', '泰州市', '463.57万', '宿迁市', '492.59万']\n"
     ]
    }
   ],
   "source": [
    "user_agent = 'Mozilla/5.0 (Windows; U; Windows NT 5.1; en-US; rv:1.9.0.7) Gecko/2009021910 Firefox/3.0.7'\n",
    "\n",
    "url = 'http://www.chamiji.com/2019052211699.html'\n",
    "headers={'User-Agent':user_agent,} \n",
    "\n",
    "request=urllib.request.Request(url,None,headers)\n",
    "response = urllib.request.urlopen(request)\n",
    "html = response.read()\n",
    "\n",
    "soup = BeautifulSoup(html, \"html.parser\")\n",
    "tags = soup('td')\n",
    "\n",
    "pop_list = list()\n",
    "i = 1\n",
    "for tag in tags:\n",
    "    if i < 4:  \n",
    "        if i < 3:\n",
    "            name = tag.text\n",
    "            #print(tag.text)\n",
    "            pop_list.append(name)\n",
    "        i += 1\n",
    "    else:\n",
    "        i = 1\n",
    "print(pop_list)\n"
   ]
  },
  {
   "cell_type": "code",
   "execution_count": 33,
   "metadata": {},
   "outputs": [],
   "source": [
    "with open('pop_jiangsu.csv', 'w', newline='') as file:\n",
    "        writer = csv.writer(file)\n",
    "        writer.writerows(pop_list)"
   ]
  },
  {
   "cell_type": "code",
   "execution_count": null,
   "metadata": {},
   "outputs": [],
   "source": []
  }
 ],
 "metadata": {
  "kernelspec": {
   "display_name": "Python 3",
   "language": "python",
   "name": "python3"
  },
  "language_info": {
   "codemirror_mode": {
    "name": "ipython",
    "version": 3
   },
   "file_extension": ".py",
   "mimetype": "text/x-python",
   "name": "python",
   "nbconvert_exporter": "python",
   "pygments_lexer": "ipython3",
   "version": "3.8.1"
  }
 },
 "nbformat": 4,
 "nbformat_minor": 4
}
