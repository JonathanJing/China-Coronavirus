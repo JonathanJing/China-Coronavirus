{
 "cells": [
  {
   "cell_type": "code",
   "execution_count": 1,
   "metadata": {},
   "outputs": [],
   "source": [
    "import json\n",
    "import urllib.request as ur"
   ]
  },
  {
   "cell_type": "code",
   "execution_count": 8,
   "metadata": {},
   "outputs": [
    {
     "name": "stdout",
     "output_type": "stream",
     "text": [
      "2020-02-04 07:40:00\n"
     ]
    }
   ],
   "source": [
    "url = 'https://interface.sina.cn/news/wap/fymap2020_data.d.json'\n",
    "html = ur.urlopen(url).read().decode()\n",
    "info = json.loads(html)\n",
    "print(info['data']['mtime'])\n",
    "data = info['data']['list']\n",
    "\n",
    "date_list = list()\n",
    "prov_list = list()\n",
    "prov_confirm_list = list()\n",
    "city_list = list()\n",
    "city_confirm_list = list()\n",
    "city_death_list = list()\n",
    "city_suspect_list = list()\n",
    "city_cure_list = list()\n",
    "\n",
    "date_list.append(info['data']['mtime'])\n",
    "for item in data:\n",
    "    #print(item['name'])\n",
    "    prov_list.append(item['name'])\n",
    "    prov_confirm_list.append(item['value'])\n",
    "    for city in item['city']:\n",
    "        #print(' ', city['name'], city['conNum'])\n",
    "        city_list.append(city['name'])\n",
    "        city_confirm_list.append(city['conNum'])\n",
    "        city_death_list.append(city['deathNum'])\n",
    "        city_suspect_list.append(city['susNum'])\n",
    "        city_cure_list.append(city['cureNum'])"
   ]
  },
  {
   "cell_type": "code",
   "execution_count": 5,
   "metadata": {},
   "outputs": [
    {
     "name": "stdout",
     "output_type": "stream",
     "text": [
      "['海淀区', '怀柔区', '延庆区', '丰台区', '大兴区', '东城区', '昌平区', '西城区', '朝阳区', '石景山区', '通州区', '顺义区', '门头沟区', '房山区', '外地来京人员', '武汉', '黄冈', '孝感', '荆门', '咸宁', '荆州', '襄阳', '随州', '十堰', '鄂州', '黄石', '宜昌', '恩施州', '仙桃', '天门', '潜江', '神农架林区', '广州', '深圳', '佛山', '珠海', '惠州', '中山', '阳江', '东莞', '湛江', '汕头', '清远', '揭阳', '肇庆', '韶关', '梅州', '茂名', '河源', '汕尾', '江门', '潮州', '杭州', '宁波', '温州', '湖州', '嘉兴', '绍兴', '金华', '衢州', '舟山', '台州', '丽水', '郑州市', '开封市', '洛阳市', '平顶山市', '安阳市', '鹤壁市', '新乡市', '焦作市', '濮阳市', '许昌市', '漯河市', '三门峡市', '南阳市', '商丘市', '周口市', '信阳市', '驻马店市', '济源示范区', '长沙市', '衡阳市', '株洲市', '湘潭市', '邵阳市', '岳阳市', '常德市', '张家界市', '益阳市', '郴州市', '永州市', '怀化市', '娄底市', '湘西自治州', '万州', '黔江', '涪陵', '渝中', '大渡口', '江北', '沙坪坝', '九龙坡', '南岸', '渝北', '巴南', '长寿', '江津', '合川', '永川', '綦江', '大足', '璧山', '铜梁', '潼南', '荣昌', '开州', '梁平', '武隆', '城口', '丰都', '垫江', '忠县', '云阳', '奉节', '巫山', '巫溪', '石柱', '秀山', '彭水', '两江新区', '高新区', '阜阳', '合肥', '马鞍山', '芜湖', '铜陵', '安庆', '亳州', '黄山', '滁州', '六安', '宿州', '蚌埠', '淮南', '宣城', '淮北', '池州', '成都', '南充', '广安', '绵阳', '内江', '达州', '巴中', '德阳', '攀枝花', '自贡', '泸州', '宜宾', '广元', '遂宁', '雅安', '甘孜州', '凉山州', '乐山', '眉山', '资阳', '阿坝州', '济南', '青岛', '淄博', '枣庄', '烟台', '潍坊', '济宁', '泰安', '威海', '日照', '临沂', '德州', '聊城', '滨州', '菏泽', '长春', '吉林', '松原', '四平', '公主岭', '通化', '延边', '福州', '莆田', '漳州', '泉州', '三明', '厦门', '南平', '龙岩', '宁德', '南昌', '赣州', '宜春', '九江', '抚州', '上饶', '新余', '吉安', '景德镇', '萍乡', '鹰潭', '南京', '无锡', '徐州', '常州', '苏州', '南通', '连云港', '淮安', '盐城', '扬州', '镇江', '泰州', '宿迁', '外地来沪人员', '浦东', '静安', '长宁', '奉贤', '徐汇', '闵行', '青浦', '虹口', '黄浦', '宝山', '嘉定', '金山', '松江', '杨浦', '普陀', '崇明', '南宁', '柳州', '桂林', '北海', '河池', '防城港', '玉林', '梧州', '百色', '钦州', '贵港', '贺州', '海口', '三亚', '儋州', '万宁', '琼海', '东方', '临高', '定安', '昌江', '澄迈', '陵水', '琼中', '乐东', '文昌', '西安', '安康', '铜川', '咸阳', '汉中', '渭南', '宝鸡', '延安', '商洛', '榆林', '韩城', '石家庄', '廊坊', '沧州', '邯郸', '保定', '邢台', '衡水', '承德', '唐山', '张家口', '秦皇岛', '哈尔滨', '齐齐哈尔', '牡丹江', '佳木斯', '大庆', '鸡西', '双鸭山', '七台河', '鹤岗', '绥化', '大兴安岭', '黑河', '沈阳', '大连', '鞍山', '本溪', '丹东', '锦州', '营口', '阜新', '辽阳', '铁岭', '朝阳', '盘锦', '葫芦岛', '昆明', '临沧', '文山州', '丽江', '保山', '德宏州', '西双版纳', '曲靖', '玉溪', '红河州', '大理州', '昭通', '普洱', '楚雄州', '河北区', '河东区', '外地来津', '河西区', '和平区', '南开区', '宝坻区', '西青区', '宁河区', '红桥区', '滨海新区', '东丽区', '太原', '晋城', '朔州', '晋中', '运城', '忻州', '阳泉', '大同', '长治', '临汾', '吕梁', '张掖', '庆阳', '陇南', '金昌', '天水', '平凉', '甘南', '兰州', '临夏', '定西', '白银', '呼和浩特', '包头', '呼伦贝尔', '兴安盟', '通辽', '赤峰', '锡林郭勒', '鄂尔多斯', '巴彦淖尔', '乌兰察布', '乌海', '铜仁', '黔东南州', '遵义', '贵阳', '六盘水', '毕节', '黔南州', '黔西南州', '安顺', '拉萨', '西宁', '海北州', '乌鲁木齐', '伊犁州', '吐鲁番', '阿克苏', '第七师', '石河子', '第九师', '银川', '吴忠', '中卫', '固原', '宁东'] ['42', '3', '1', '17', '28', '2', '13', '26', '31', '5', '13', '5', '3', '4', '19', '6384', '1422', '1120', '400', '348', '613', '632', '641', '291', '332', '405', '452', '123', '188', '117', '44', '10', '200', '245', '45', '55', '28', '25', '10', '31', '14', '18', '7', '6', '10', '5', '8', '4', '1', '5', '4', '4', '118', '75', '291', '9', '19', '30', '36', '14', '7', '109', '16', '72', '11', '7', '19', '29', '8', '27', '8', '3', '15', '20', '7', '84', '50', '47', '99', '58', '2', '125', '32', '26', '19', '51', '70', '45', '3', '30', '21', '26', '32', '35', '6', '56', '2', '2', '13', '7', '16', '2', '15', '7', '12', '3', '12', '3', '9', '3', '10', '7', '8', '7', '4', '7', '18', '3', '1', '2', '6', '13', '15', '18', '9', '7', '11', '12', '1', '2', '13', '1', '65', '75', '28', '16', '18', '47', '39', '9', '8', '20', '21', '37', '7', '4', '8', '6', '77', '26', '21', '17', '12', '11', '12', '10', '10', '9', '7', '7', '5', '5', '5', '6', '6', '2', '3', '2', '1', '22', '26', '12', '16', '26', '13', '18', '12', '25', '14', '25', '19', '10', '11', '10', '17', '4', '2', '4', '1', '1', '2', '47', '34', '13', '31', '11', '19', '11', '1', '12', '103', '35', '36', '64', '29', '32', '50', '13', '3', '18', '8', '40', '23', '36', '15', '44', '19', '14', '18', '15', '14', '3', '21', '9', '79', '40', '9', '8', '5', '9', '10', '2', '5', '5', '10', '2', '1', '7', '4', '6', '1', '22', '14', '24', '26', '6', '9', '8', '5', '2', '2', '5', '4', '13', '18', '7', '9', '6', '1', '4', '1', '3', '2', '5', '1', '1', '1', '55', '17', '7', '9', '15', '6', '8', '7', '2', '1', '1', '16', '12', '19', '11', '13', '14', '4', '2', '11', '9', '2', '45', '6', '8', '11', '11', '6', '7', '7', '1', '16', '2', '1', '15', '12', '1', '3', '6', '7', '1', '5', '2', '3', '6', '8', '5', '34', '1', '1', '7', '8', '5', '13', '8', '12', '5', '7', '9', '4', '3', '9', '9', '6', '3', '5', '3', '11', '3', '4', '2', '2', '3', '6', '7', '3', '19', '16', '3', '2', '9', '3', '1', '5', '2', '1', '4', '1', '10', '1', '1', '26', '3', '2', '1', '4', '6', '2', '1', '1', '2', '2', '9', '3', '3', '1', '6', '4', '8', '7', '9', '4', '5', '1', '2', '1', '12', '1', '10', '6', '1', '1', '1', '1', '4', '19', '7', '2', '2', '1']\n"
     ]
    }
   ],
   "source": []
  },
  {
   "cell_type": "code",
   "execution_count": null,
   "metadata": {},
   "outputs": [],
   "source": [
    "#https://view.inews.qq.com/g2/getOnsInfo?name=wuwei_ww_cn_day_counts"
   ]
  },
  {
   "cell_type": "code",
   "execution_count": 22,
   "metadata": {},
   "outputs": [
    {
     "name": "stdout",
     "output_type": "stream",
     "text": [
      "[datetime.datetime(2020, 1, 13, 0, 0), datetime.datetime(2020, 1, 14, 0, 0), datetime.datetime(2020, 1, 15, 0, 0), datetime.datetime(2020, 1, 16, 0, 0), datetime.datetime(2020, 1, 17, 0, 0), datetime.datetime(2020, 1, 18, 0, 0), datetime.datetime(2020, 1, 19, 0, 0), datetime.datetime(2020, 1, 20, 0, 0), datetime.datetime(2020, 1, 21, 0, 0), datetime.datetime(2020, 1, 22, 0, 0), datetime.datetime(2020, 1, 23, 0, 0), datetime.datetime(2020, 1, 24, 0, 0), datetime.datetime(2020, 1, 25, 0, 0), datetime.datetime(2020, 1, 26, 0, 0), datetime.datetime(2020, 1, 27, 0, 0), datetime.datetime(2020, 1, 28, 0, 0), datetime.datetime(2020, 1, 29, 0, 0), datetime.datetime(2020, 1, 30, 0, 0), datetime.datetime(2020, 1, 31, 0, 0)]\n"
     ]
    }
   ],
   "source": [
    "import time\n",
    "import json\n",
    "import requests\n",
    "from datetime import datetime\n",
    "import numpy as np\n",
    "\n",
    "url = 'https://view.inews.qq.com/g2/getOnsInfo?name=wuwei_ww_cn_day_counts&callback=&_=%d'%int(time.time()*1000)\n",
    "data = json.loads(requests.get(url=url).json()['data'])\n",
    "data.sort(key=lambda x:x['date'])\n",
    "date_list = list() # 日期\n",
    "confirm_list = list() # 确诊\n",
    "suspect_list = list() # 疑似\n",
    "dead_list = list() # 死亡\n",
    "heal_list = list() # 治愈\n",
    "for item in data:\n",
    "    month, day = item['date'].split('.')\n",
    "    date_list.append(datetime.strptime('2020-%s-%s'%(month, day), '%Y-%m-%d'))\n",
    "    confirm_list.append(int(item['confirm']))\n",
    "    suspect_list.append(int(item['suspect']))\n",
    "    dead_list.append(int(item['dead']))\n",
    "    heal_list.append(int(item['heal']))\n",
    "print(date_list)"
   ]
  },
  {
   "cell_type": "code",
   "execution_count": 10,
   "metadata": {},
   "outputs": [],
   "source": [
    "import time\n",
    "import json\n",
    "import requests\n",
    "from datetime import datetime\n",
    "import numpy as np\n",
    "import matplotlib\n",
    "import matplotlib.figure\n",
    "from matplotlib.font_manager import FontProperties\n",
    "from matplotlib.backends.backend_agg import FigureCanvasAgg\n",
    "from matplotlib.patches import Polygon\n",
    "from matplotlib.collections import PatchCollection\n",
    "from mpl_toolkits.basemap import Basemap\n",
    "import matplotlib.pyplot as plt\n",
    "import matplotlib.dates as mdates\n",
    "import csv"
   ]
  },
  {
   "cell_type": "code",
   "execution_count": 11,
   "metadata": {},
   "outputs": [
    {
     "ename": "Error",
     "evalue": "iterable expected, not datetime.datetime",
     "output_type": "error",
     "traceback": [
      "\u001b[0;31m---------------------------------------------------------------------------\u001b[0m",
      "\u001b[0;31mError\u001b[0m                                     Traceback (most recent call last)",
      "\u001b[0;32m<ipython-input-11-07dd43bd62f1>\u001b[0m in \u001b[0;36m<module>\u001b[0;34m\u001b[0m\n\u001b[1;32m    118\u001b[0m \u001b[0;34m\u001b[0m\u001b[0m\n\u001b[1;32m    119\u001b[0m \u001b[0;32mif\u001b[0m \u001b[0m__name__\u001b[0m \u001b[0;34m==\u001b[0m \u001b[0;34m'__main__'\u001b[0m\u001b[0;34m:\u001b[0m\u001b[0;34m\u001b[0m\u001b[0;34m\u001b[0m\u001b[0m\n\u001b[0;32m--> 120\u001b[0;31m     \u001b[0mplot_daily\u001b[0m\u001b[0;34m(\u001b[0m\u001b[0;34m)\u001b[0m\u001b[0;34m\u001b[0m\u001b[0;34m\u001b[0m\u001b[0m\n\u001b[0m\u001b[1;32m    121\u001b[0m     \u001b[0mplot_distribution\u001b[0m\u001b[0;34m(\u001b[0m\u001b[0;34m)\u001b[0m\u001b[0;34m\u001b[0m\u001b[0;34m\u001b[0m\u001b[0m\n",
      "\u001b[0;32m<ipython-input-11-07dd43bd62f1>\u001b[0m in \u001b[0;36mplot_daily\u001b[0;34m()\u001b[0m\n\u001b[1;32m     42\u001b[0m     \u001b[0;34m\"\"\"绘制每日确诊和死亡数据\"\"\"\u001b[0m\u001b[0;34m\u001b[0m\u001b[0;34m\u001b[0m\u001b[0m\n\u001b[1;32m     43\u001b[0m \u001b[0;34m\u001b[0m\u001b[0m\n\u001b[0;32m---> 44\u001b[0;31m     \u001b[0mdate_list\u001b[0m\u001b[0;34m,\u001b[0m \u001b[0mconfirm_list\u001b[0m\u001b[0;34m,\u001b[0m \u001b[0msuspect_list\u001b[0m\u001b[0;34m,\u001b[0m \u001b[0mdead_list\u001b[0m\u001b[0;34m,\u001b[0m \u001b[0mheal_list\u001b[0m \u001b[0;34m=\u001b[0m \u001b[0mcatch_daily\u001b[0m\u001b[0;34m(\u001b[0m\u001b[0;34m)\u001b[0m \u001b[0;31m# 获取数据\u001b[0m\u001b[0;34m\u001b[0m\u001b[0;34m\u001b[0m\u001b[0m\n\u001b[0m\u001b[1;32m     45\u001b[0m \u001b[0;34m\u001b[0m\u001b[0m\n\u001b[1;32m     46\u001b[0m     \u001b[0mplt\u001b[0m\u001b[0;34m.\u001b[0m\u001b[0mfigure\u001b[0m\u001b[0;34m(\u001b[0m\u001b[0;34m'2019-nCoV疫情统计图表'\u001b[0m\u001b[0;34m,\u001b[0m \u001b[0mfacecolor\u001b[0m\u001b[0;34m=\u001b[0m\u001b[0;34m'#f4f4f4'\u001b[0m\u001b[0;34m,\u001b[0m \u001b[0mfigsize\u001b[0m\u001b[0;34m=\u001b[0m\u001b[0;34m(\u001b[0m\u001b[0;36m10\u001b[0m\u001b[0;34m,\u001b[0m \u001b[0;36m8\u001b[0m\u001b[0;34m)\u001b[0m\u001b[0;34m)\u001b[0m\u001b[0;34m\u001b[0m\u001b[0;34m\u001b[0m\u001b[0m\n",
      "\u001b[0;32m<ipython-input-11-07dd43bd62f1>\u001b[0m in \u001b[0;36mcatch_daily\u001b[0;34m()\u001b[0m\n\u001b[1;32m     23\u001b[0m     \u001b[0;32mwith\u001b[0m \u001b[0mopen\u001b[0m\u001b[0;34m(\u001b[0m\u001b[0;34m'test.csv'\u001b[0m\u001b[0;34m,\u001b[0m \u001b[0;34m'w'\u001b[0m\u001b[0;34m,\u001b[0m \u001b[0mnewline\u001b[0m\u001b[0;34m=\u001b[0m\u001b[0;34m''\u001b[0m\u001b[0;34m)\u001b[0m \u001b[0;32mas\u001b[0m \u001b[0mfile\u001b[0m\u001b[0;34m:\u001b[0m\u001b[0;34m\u001b[0m\u001b[0;34m\u001b[0m\u001b[0m\n\u001b[1;32m     24\u001b[0m         \u001b[0mwriter\u001b[0m \u001b[0;34m=\u001b[0m \u001b[0mcsv\u001b[0m\u001b[0;34m.\u001b[0m\u001b[0mwriter\u001b[0m\u001b[0;34m(\u001b[0m\u001b[0mfile\u001b[0m\u001b[0;34m)\u001b[0m\u001b[0;34m\u001b[0m\u001b[0;34m\u001b[0m\u001b[0m\n\u001b[0;32m---> 25\u001b[0;31m         \u001b[0mwriter\u001b[0m\u001b[0;34m.\u001b[0m\u001b[0mwriterows\u001b[0m\u001b[0;34m(\u001b[0m\u001b[0mdate_list\u001b[0m\u001b[0;34m)\u001b[0m\u001b[0;34m\u001b[0m\u001b[0;34m\u001b[0m\u001b[0m\n\u001b[0m\u001b[1;32m     26\u001b[0m \u001b[0;34m\u001b[0m\u001b[0m\n\u001b[1;32m     27\u001b[0m     \u001b[0;32mreturn\u001b[0m \u001b[0mdate_list\u001b[0m\u001b[0;34m,\u001b[0m \u001b[0mconfirm_list\u001b[0m\u001b[0;34m,\u001b[0m \u001b[0msuspect_list\u001b[0m\u001b[0;34m,\u001b[0m \u001b[0mdead_list\u001b[0m\u001b[0;34m,\u001b[0m \u001b[0mheal_list\u001b[0m\u001b[0;34m\u001b[0m\u001b[0;34m\u001b[0m\u001b[0m\n",
      "\u001b[0;31mError\u001b[0m: iterable expected, not datetime.datetime"
     ]
    }
   ],
   "source": [
    "\n",
    "plt.rcParams['font.sans-serif'] = ['FangSong']  # 设置默认字体\n",
    "plt.rcParams['axes.unicode_minus'] = False  # 解决保存图像时'-'显示为方块的问题\n",
    "\n",
    "def catch_daily():\n",
    "    \"\"\"抓取每日确诊和死亡数据\"\"\"\n",
    "    \n",
    "    url = 'https://view.inews.qq.com/g2/getOnsInfo?name=wuwei_ww_cn_day_counts&callback=&_=%d'%int(time.time()*1000)\n",
    "    data = json.loads(requests.get(url=url).json()['data'])\n",
    "    data.sort(key=lambda x:x['date'])\n",
    "    \n",
    "    date_list = list() # 日期\n",
    "    confirm_list = list() # 确诊\n",
    "    suspect_list = list() # 疑似\n",
    "    dead_list = list() # 死亡\n",
    "    heal_list = list() # 治愈\n",
    "    for item in data:\n",
    "        month, day = item['date'].split('.')\n",
    "        date_list.append(datetime.strptime('2020-%s-%s'%(month, day), '%Y-%m-%d'))\n",
    "        confirm_list.append(int(item['confirm']))\n",
    "        suspect_list.append(int(item['suspect']))\n",
    "        dead_list.append(int(item['dead']))\n",
    "        heal_list.append(int(item['heal']))\n",
    "    with open('test.csv', 'w', newline='') as file:\n",
    "        writer = csv.writer(file)\n",
    "        writer.writerows(date_list)\n",
    "\n",
    "    return date_list, confirm_list, suspect_list, dead_list, heal_list\n",
    "\n",
    "def catch_distribution():\n",
    "    \"\"\"抓取行政区域确诊分布数据\"\"\"\n",
    "    \n",
    "    data = {'西藏':0}\n",
    "    url = 'https://view.inews.qq.com/g2/getOnsInfo?name=wuwei_ww_area_counts&callback=&_=%d'%int(time.time()*1000)\n",
    "    for item in json.loads(requests.get(url=url).json()['data']):\n",
    "        if item['area'] not in data:\n",
    "            data.update({item['area']:0})\n",
    "        data[item['area']] += int(item['confirm'])\n",
    "    \n",
    "    return data\n",
    "\n",
    "def plot_daily():\n",
    "    \"\"\"绘制每日确诊和死亡数据\"\"\"\n",
    "    \n",
    "    date_list, confirm_list, suspect_list, dead_list, heal_list = catch_daily() # 获取数据\n",
    "    \n",
    "    plt.figure('2019-nCoV疫情统计图表', facecolor='#f4f4f4', figsize=(10, 8))\n",
    "    plt.title('2019-nCoV疫情曲线', fontsize=20)\n",
    "    \n",
    "    plt.plot(date_list, confirm_list, label='确诊')\n",
    "    plt.plot(date_list, suspect_list, label='疑似')\n",
    "    plt.plot(date_list, dead_list, label='死亡')\n",
    "    plt.plot(date_list, heal_list, label='治愈')\n",
    "    \n",
    "    plt.gca().xaxis.set_major_formatter(mdates.DateFormatter('%m-%d')) # 格式化时间轴标注\n",
    "    plt.gcf().autofmt_xdate() # 优化标注（自动倾斜）\n",
    "    plt.grid(linestyle=':') # 显示网格\n",
    "    plt.legend(loc='best') # 显示图例\n",
    "    plt.savefig('2019-nCoV疫情曲线.png') # 保存为文件\n",
    "    #plt.show()\n",
    "\n",
    "def plot_distribution():\n",
    "    \"\"\"绘制行政区域确诊分布数据\"\"\"\n",
    "    \n",
    "    data = catch_distribution()\n",
    "    \n",
    "    font = FontProperties(fname='/Users/jonathan_jing/Downloads/yiqing/simsun.ttf', size=14)\n",
    "    lat_min = 0\n",
    "    lat_max = 60\n",
    "    lon_min = 70\n",
    "    lon_max = 140\n",
    "    \n",
    "    handles = [\n",
    "            matplotlib.patches.Patch(color='#ffaa85', alpha=1, linewidth=0),\n",
    "            matplotlib.patches.Patch(color='#ff7b69', alpha=1, linewidth=0),\n",
    "            matplotlib.patches.Patch(color='#bf2121', alpha=1, linewidth=0),\n",
    "            matplotlib.patches.Patch(color='#7f1818', alpha=1, linewidth=0),\n",
    "]\n",
    "    labels = [ '1-9人', '10-99人', '100-999人', '>1000人']\n",
    "    \n",
    "    fig = matplotlib.figure.Figure()\n",
    "    fig.set_size_inches(10, 8) # 设置绘图板尺寸\n",
    "    axes = fig.add_axes((0.1, 0.12, 0.8, 0.8)) # rect = l,b,w,h\n",
    "    m = Basemap(llcrnrlon=lon_min, urcrnrlon=lon_max, llcrnrlat=lat_min, urcrnrlat=lat_max, resolution='l', ax=axes)\n",
    "    m.readshapefile('/Users/jonathan_jing/Downloads/yiqing/china-shapefiles-master/china', 'province', drawbounds=True)\n",
    "    m.readshapefile('/Users/jonathan_jing/Downloads/yiqing/china-shapefiles-master/china_nine_dotted_line', 'section', drawbounds=True)\n",
    "    m.drawcoastlines(color='black') # 洲际线\n",
    "    m.drawcountries(color='black')  # 国界线\n",
    "    m.drawparallels(np.arange(lat_min,lat_max,10), labels=[1,0,0,0]) #画经度线\n",
    "    m.drawmeridians(np.arange(lon_min,lon_max,10), labels=[0,0,0,1]) #画纬度线\n",
    "    \n",
    "    for info, shape in zip(m.province_info, m.province):\n",
    "        pname = info['OWNER'].strip('\\x00')\n",
    "        fcname = info['FCNAME'].strip('\\x00')\n",
    "        if pname != fcname: # 不绘制海岛\n",
    "            continue\n",
    "        \n",
    "        for key in data.keys():\n",
    "            if key in pname:\n",
    "                if data[key] == 0:\n",
    "                    color = '#f0f0f0'\n",
    "                elif data[key] < 10:\n",
    "                    color = '#ffaa85'\n",
    "                elif data[key] <100:\n",
    "                    color = '#ff7b69'\n",
    "                elif  data[key] < 1000:\n",
    "                    color = '#bf2121'\n",
    "                else:\n",
    "                    color = '#7f1818'\n",
    "                break\n",
    "        \n",
    "        poly = Polygon(shape, facecolor=color, edgecolor=color)\n",
    "        axes.add_patch(poly)\n",
    "    \n",
    "    axes.legend(handles, labels, bbox_to_anchor=(0.5, -0.11), loc='lower center', ncol=4, prop=font)\n",
    "    axes.set_title(\"2019-nCoV疫情地图\", fontproperties=font)\n",
    "    FigureCanvasAgg(fig)\n",
    "    fig.savefig('2019-nCoV疫情地图.png')\n",
    "\n",
    "if __name__ == '__main__':\n",
    "    plot_daily()\n",
    "    plot_distribution()"
   ]
  },
  {
   "cell_type": "code",
   "execution_count": null,
   "metadata": {},
   "outputs": [],
   "source": []
  }
 ],
 "metadata": {
  "kernelspec": {
   "display_name": "Python 3",
   "language": "python",
   "name": "python3"
  },
  "language_info": {
   "codemirror_mode": {
    "name": "ipython",
    "version": 3
   },
   "file_extension": ".py",
   "mimetype": "text/x-python",
   "name": "python",
   "nbconvert_exporter": "python",
   "pygments_lexer": "ipython3",
   "version": "3.8.1"
  }
 },
 "nbformat": 4,
 "nbformat_minor": 4
}
